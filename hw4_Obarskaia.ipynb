{
 "cells": [
  {
   "cell_type": "markdown",
   "id": "b9856277",
   "metadata": {},
   "source": [
    "В данном задании вам нужно будет провести анализ данных проведенного A/B-теста.\n",
    "\n",
    "Данные будут предоставлены в формате csv. Они будут содержать также часть пред экспериментального этапа.\n",
    "\n",
    "### Описание эксперимента:\n",
    "Есть мобильное приложение. В этом приложении у пользователей есть возможность покупать игровые предметы за реальные деньги. Чтобы стимулировать пользователей их покупать, приложение периодически предлагает пользователям товары - появляется окошко с рекомендацией купить товар. Отдел машинного обучения предложил улучшение для текущего алгоритма выбора рекомендации. Для проверки улучшений алгоритма был проведен A/B тест. Лог его проведения предоставлен в прикрепленном файле. \n",
    "\n",
    "### Метрика: средний доход от пользователя за 1 неделю после первого показа ему рекомендации на 10% (после начала A/B теста время первого показа ищется снова)\n",
    "\n",
    "Важная информация:\n",
    "Эксперимент начинается 2023-05-01. Данные есть до 2023-06-01 (но можно завершить раньше, если это позволит оценка длительности)\n",
    "Вам сказали, что его длительность должна составить 1 месяц.\n",
    "Все покупки, которые вызваны не влиянием рекомендаций, в этом логе не учитываются\n",
    "\n",
    "### Описание данных:\n",
    "id_product -  идентификатор продукта, который был рекомендован\n",
    "is_pay - купил ли пользователь товар\n",
    "sum_payment - размер платежа (0, если не купил)\n",
    "city - город, в котором находится пользователь\n",
    "id_user - пользователь\n",
    "timestamp - timestamp события\n",
    "date - дата события\n",
    "\n",
    "### Задачи, которые необходимо решить:\n",
    "1) Оценить длительность теста на момент его начала. Сравнить с предложенной. Для оценки необходимо использовать данные с пред экспериментального периода. \n",
    "2) Посмотреть, есть ли выбросы в данных.\n",
    "3) Построить методику расчета целевой метрики. \n",
    "4) Рассчитать целевую метрику на день окончания теста (рассчитанной в п1) для группы A и B, рассчитать эффект, p_value. \n",
    "5) Посмотреть, есть ли выбросы в данных.\n",
    "6) Рассчитать метрики из п2 по дням и построить их графики.\n",
    "7) Принять решение о результате теста - обосновать.\n",
    "\n",
    "### Дополнительно:\n",
    "При подсчете метрик обработать выбросы в данных - описать почему их можно удалить из теста, если они удаляются. Пожалуйста, не заглядывайте в будущее по данным, если рассчитанная длительность меньше предоставленных данных.\n",
    "\n",
    "Данные: ссылка, читать стоит с pd.read_csv(\"ab_made_4.gzip\", compression='gzip')"
   ]
  },
  {
   "cell_type": "code",
   "execution_count": 529,
   "id": "7cf04e91",
   "metadata": {},
   "outputs": [],
   "source": [
    "import pandas as pd\n",
    "import numpy as np\n",
    "import random\n",
    "import scipy.stats as sps\n",
    "import plotly.graph_objs as go"
   ]
  },
  {
   "cell_type": "code",
   "execution_count": 530,
   "id": "f713d2fc",
   "metadata": {},
   "outputs": [],
   "source": [
    "path = 'data/ab_made_4.csv'\n",
    "df = pd.read_csv(path)"
   ]
  },
  {
   "cell_type": "code",
   "execution_count": 531,
   "id": "dbfee0ab",
   "metadata": {
    "scrolled": false
   },
   "outputs": [
    {
     "data": {
      "text/html": [
       "<div>\n",
       "<style scoped>\n",
       "    .dataframe tbody tr th:only-of-type {\n",
       "        vertical-align: middle;\n",
       "    }\n",
       "\n",
       "    .dataframe tbody tr th {\n",
       "        vertical-align: top;\n",
       "    }\n",
       "\n",
       "    .dataframe thead th {\n",
       "        text-align: right;\n",
       "    }\n",
       "</style>\n",
       "<table border=\"1\" class=\"dataframe\">\n",
       "  <thead>\n",
       "    <tr style=\"text-align: right;\">\n",
       "      <th></th>\n",
       "      <th>timestamp</th>\n",
       "      <th>id_user</th>\n",
       "      <th>sum_payment</th>\n",
       "      <th>group</th>\n",
       "      <th>city</th>\n",
       "      <th>id_product</th>\n",
       "      <th>is_pay</th>\n",
       "      <th>date</th>\n",
       "    </tr>\n",
       "  </thead>\n",
       "  <tbody>\n",
       "    <tr>\n",
       "      <th>0</th>\n",
       "      <td>1680330573</td>\n",
       "      <td>user_9903</td>\n",
       "      <td>27</td>\n",
       "      <td>NaN</td>\n",
       "      <td>Санкт-Петербург</td>\n",
       "      <td>4.0</td>\n",
       "      <td>1</td>\n",
       "      <td>2023-04-01</td>\n",
       "    </tr>\n",
       "    <tr>\n",
       "      <th>1</th>\n",
       "      <td>1680332652</td>\n",
       "      <td>user_6732</td>\n",
       "      <td>0</td>\n",
       "      <td>NaN</td>\n",
       "      <td>Рязань</td>\n",
       "      <td>1.0</td>\n",
       "      <td>0</td>\n",
       "      <td>2023-04-01</td>\n",
       "    </tr>\n",
       "    <tr>\n",
       "      <th>2</th>\n",
       "      <td>1680378039</td>\n",
       "      <td>user_4199</td>\n",
       "      <td>0</td>\n",
       "      <td>NaN</td>\n",
       "      <td>Москва</td>\n",
       "      <td>3.0</td>\n",
       "      <td>0</td>\n",
       "      <td>2023-04-01</td>\n",
       "    </tr>\n",
       "    <tr>\n",
       "      <th>3</th>\n",
       "      <td>1680337580</td>\n",
       "      <td>user_3606</td>\n",
       "      <td>12</td>\n",
       "      <td>NaN</td>\n",
       "      <td>Санкт-Петербург</td>\n",
       "      <td>7.0</td>\n",
       "      <td>1</td>\n",
       "      <td>2023-04-01</td>\n",
       "    </tr>\n",
       "    <tr>\n",
       "      <th>4</th>\n",
       "      <td>1680334389</td>\n",
       "      <td>user_9519</td>\n",
       "      <td>0</td>\n",
       "      <td>NaN</td>\n",
       "      <td>Санкт-Петербург</td>\n",
       "      <td>14.0</td>\n",
       "      <td>0</td>\n",
       "      <td>2023-04-01</td>\n",
       "    </tr>\n",
       "  </tbody>\n",
       "</table>\n",
       "</div>"
      ],
      "text/plain": [
       "    timestamp    id_user  sum_payment group             city  id_product  \\\n",
       "0  1680330573  user_9903           27   NaN  Санкт-Петербург         4.0   \n",
       "1  1680332652  user_6732            0   NaN           Рязань         1.0   \n",
       "2  1680378039  user_4199            0   NaN           Москва         3.0   \n",
       "3  1680337580  user_3606           12   NaN  Санкт-Петербург         7.0   \n",
       "4  1680334389  user_9519            0   NaN  Санкт-Петербург        14.0   \n",
       "\n",
       "   is_pay        date  \n",
       "0       1  2023-04-01  \n",
       "1       0  2023-04-01  \n",
       "2       0  2023-04-01  \n",
       "3       1  2023-04-01  \n",
       "4       0  2023-04-01  "
      ]
     },
     "execution_count": 531,
     "metadata": {},
     "output_type": "execute_result"
    }
   ],
   "source": [
    "df.head(5)"
   ]
  },
  {
   "cell_type": "code",
   "execution_count": 532,
   "id": "3071e530",
   "metadata": {},
   "outputs": [
    {
     "data": {
      "text/plain": [
       "(56405, 8)"
      ]
     },
     "execution_count": 532,
     "metadata": {},
     "output_type": "execute_result"
    }
   ],
   "source": [
    "df.shape"
   ]
  },
  {
   "cell_type": "markdown",
   "id": "f343d414",
   "metadata": {},
   "source": [
    "### Оценить длительность теста на момент его начала. Сравнить с предложенной. Для оценки необходимо использовать данные с пред экспериментального периода. Посмотреть, есть ли выбросы в данных"
   ]
  },
  {
   "cell_type": "markdown",
   "id": "a4e75acf",
   "metadata": {},
   "source": [
    "Нам даны исторические данные за предыдущий месяц до запуска эсперимента.\n",
    "Посмотрим, как выглядят покупки клиентов за этот период, есть ли выбросы.\n",
    "Так как нам нужно оценить длительность эксперимента исходя из предыдущих данных, то выбросы могут испортить нам общую картину"
   ]
  },
  {
   "cell_type": "code",
   "execution_count": 533,
   "id": "05cf109d",
   "metadata": {
    "scrolled": true
   },
   "outputs": [
    {
     "data": {
      "text/html": [
       "<div>\n",
       "<style scoped>\n",
       "    .dataframe tbody tr th:only-of-type {\n",
       "        vertical-align: middle;\n",
       "    }\n",
       "\n",
       "    .dataframe tbody tr th {\n",
       "        vertical-align: top;\n",
       "    }\n",
       "\n",
       "    .dataframe thead th {\n",
       "        text-align: right;\n",
       "    }\n",
       "</style>\n",
       "<table border=\"1\" class=\"dataframe\">\n",
       "  <thead>\n",
       "    <tr style=\"text-align: right;\">\n",
       "      <th></th>\n",
       "      <th>timestamp</th>\n",
       "      <th>sum_payment</th>\n",
       "      <th>id_product</th>\n",
       "      <th>is_pay</th>\n",
       "    </tr>\n",
       "  </thead>\n",
       "  <tbody>\n",
       "    <tr>\n",
       "      <th>count</th>\n",
       "      <td>6.642000e+03</td>\n",
       "      <td>6642.000000</td>\n",
       "      <td>6641.000000</td>\n",
       "      <td>6642.0</td>\n",
       "    </tr>\n",
       "    <tr>\n",
       "      <th>mean</th>\n",
       "      <td>1.682224e+09</td>\n",
       "      <td>21.251129</td>\n",
       "      <td>11.440897</td>\n",
       "      <td>1.0</td>\n",
       "    </tr>\n",
       "    <tr>\n",
       "      <th>std</th>\n",
       "      <td>5.790047e+05</td>\n",
       "      <td>15.382642</td>\n",
       "      <td>5.723223</td>\n",
       "      <td>0.0</td>\n",
       "    </tr>\n",
       "    <tr>\n",
       "      <th>min</th>\n",
       "      <td>1.680331e+09</td>\n",
       "      <td>10.000000</td>\n",
       "      <td>0.000000</td>\n",
       "      <td>1.0</td>\n",
       "    </tr>\n",
       "    <tr>\n",
       "      <th>25%</th>\n",
       "      <td>1.681852e+09</td>\n",
       "      <td>13.000000</td>\n",
       "      <td>7.000000</td>\n",
       "      <td>1.0</td>\n",
       "    </tr>\n",
       "    <tr>\n",
       "      <th>50%</th>\n",
       "      <td>1.682384e+09</td>\n",
       "      <td>19.000000</td>\n",
       "      <td>11.000000</td>\n",
       "      <td>1.0</td>\n",
       "    </tr>\n",
       "    <tr>\n",
       "      <th>75%</th>\n",
       "      <td>1.682710e+09</td>\n",
       "      <td>28.000000</td>\n",
       "      <td>16.000000</td>\n",
       "      <td>1.0</td>\n",
       "    </tr>\n",
       "    <tr>\n",
       "      <th>max</th>\n",
       "      <td>1.682888e+09</td>\n",
       "      <td>1000.000000</td>\n",
       "      <td>21.000000</td>\n",
       "      <td>1.0</td>\n",
       "    </tr>\n",
       "  </tbody>\n",
       "</table>\n",
       "</div>"
      ],
      "text/plain": [
       "          timestamp  sum_payment   id_product  is_pay\n",
       "count  6.642000e+03  6642.000000  6641.000000  6642.0\n",
       "mean   1.682224e+09    21.251129    11.440897     1.0\n",
       "std    5.790047e+05    15.382642     5.723223     0.0\n",
       "min    1.680331e+09    10.000000     0.000000     1.0\n",
       "25%    1.681852e+09    13.000000     7.000000     1.0\n",
       "50%    1.682384e+09    19.000000    11.000000     1.0\n",
       "75%    1.682710e+09    28.000000    16.000000     1.0\n",
       "max    1.682888e+09  1000.000000    21.000000     1.0"
      ]
     },
     "execution_count": 533,
     "metadata": {},
     "output_type": "execute_result"
    }
   ],
   "source": [
    "df[(df['is_pay']==1)&(df['date']<='2023-04-31')].describe()"
   ]
  },
  {
   "cell_type": "markdown",
   "id": "629181f4",
   "metadata": {},
   "source": [
    "### Посмотреть, есть ли выбросы в данных."
   ]
  },
  {
   "cell_type": "markdown",
   "id": "655f36cf",
   "metadata": {},
   "source": [
    "Есть клиенты, которые сделали крупную покупку сразу на 1000, тогда как среднее значение чека даже с учетом выброса - 21. Чтобы скорректировать влияние выбросов на метрики, попробуем удалить выброс, у нас много измерений, в йелом удаление не должно оказать отрицательного влияния"
   ]
  },
  {
   "cell_type": "code",
   "execution_count": 538,
   "id": "97b7510d",
   "metadata": {
    "scrolled": false
   },
   "outputs": [
    {
     "data": {
      "text/html": [
       "<div>\n",
       "<style scoped>\n",
       "    .dataframe tbody tr th:only-of-type {\n",
       "        vertical-align: middle;\n",
       "    }\n",
       "\n",
       "    .dataframe tbody tr th {\n",
       "        vertical-align: top;\n",
       "    }\n",
       "\n",
       "    .dataframe thead th {\n",
       "        text-align: right;\n",
       "    }\n",
       "</style>\n",
       "<table border=\"1\" class=\"dataframe\">\n",
       "  <thead>\n",
       "    <tr style=\"text-align: right;\">\n",
       "      <th></th>\n",
       "      <th>timestamp</th>\n",
       "      <th>id_user</th>\n",
       "      <th>sum_payment</th>\n",
       "      <th>group</th>\n",
       "      <th>city</th>\n",
       "      <th>id_product</th>\n",
       "      <th>is_pay</th>\n",
       "      <th>date</th>\n",
       "    </tr>\n",
       "  </thead>\n",
       "  <tbody>\n",
       "    <tr>\n",
       "      <th>2705</th>\n",
       "      <td>1681354189</td>\n",
       "      <td>user_0</td>\n",
       "      <td>1000</td>\n",
       "      <td>NaN</td>\n",
       "      <td>Москва</td>\n",
       "      <td>NaN</td>\n",
       "      <td>1</td>\n",
       "      <td>2023-04-13</td>\n",
       "    </tr>\n",
       "  </tbody>\n",
       "</table>\n",
       "</div>"
      ],
      "text/plain": [
       "       timestamp id_user  sum_payment group    city  id_product  is_pay  \\\n",
       "2705  1681354189  user_0         1000   NaN  Москва         NaN       1   \n",
       "\n",
       "            date  \n",
       "2705  2023-04-13  "
      ]
     },
     "execution_count": 538,
     "metadata": {},
     "output_type": "execute_result"
    }
   ],
   "source": [
    "df[(df['is_pay']==1)&(df['sum_payment']==1000)&(df['date']<='2023-04-31')]"
   ]
  },
  {
   "cell_type": "code",
   "execution_count": null,
   "id": "f129d774",
   "metadata": {},
   "outputs": [],
   "source": [
    "df = df.drop(labels=2705)\n",
    "\n",
    "df = df.reset_index()"
   ]
  },
  {
   "cell_type": "code",
   "execution_count": 540,
   "id": "f43bfe32",
   "metadata": {},
   "outputs": [],
   "source": [
    "# df[(df['is_pay']==1)&(df['sum_payment']==1000)&(df['date']<='2023-04-31')]"
   ]
  },
  {
   "cell_type": "code",
   "execution_count": 553,
   "id": "a59bd721",
   "metadata": {},
   "outputs": [
    {
     "data": {
      "text/plain": [
       "21.1"
      ]
     },
     "execution_count": 553,
     "metadata": {},
     "output_type": "execute_result"
    }
   ],
   "source": [
    "round(df[(df['is_pay']==1)&(df['date']<='2023-04-31')].sum_payment.mean(), 2)"
   ]
  },
  {
   "cell_type": "markdown",
   "id": "0755dfe3",
   "metadata": {},
   "source": [
    "Добавим поля, которые будут обозначать дату первой покупки и последний день, спустя неделю после покупки."
   ]
  },
  {
   "cell_type": "markdown",
   "id": "ea92ca43",
   "metadata": {},
   "source": [
    "### Построить методику расчета целевой метрики."
   ]
  },
  {
   "cell_type": "code",
   "execution_count": 554,
   "id": "18e38891",
   "metadata": {
    "scrolled": true
   },
   "outputs": [
    {
     "data": {
      "text/html": [
       "<div>\n",
       "<style scoped>\n",
       "    .dataframe tbody tr th:only-of-type {\n",
       "        vertical-align: middle;\n",
       "    }\n",
       "\n",
       "    .dataframe tbody tr th {\n",
       "        vertical-align: top;\n",
       "    }\n",
       "\n",
       "    .dataframe thead th {\n",
       "        text-align: right;\n",
       "    }\n",
       "</style>\n",
       "<table border=\"1\" class=\"dataframe\">\n",
       "  <thead>\n",
       "    <tr style=\"text-align: right;\">\n",
       "      <th></th>\n",
       "      <th>index</th>\n",
       "      <th>timestamp</th>\n",
       "      <th>id_user</th>\n",
       "      <th>sum_payment</th>\n",
       "      <th>group</th>\n",
       "      <th>city</th>\n",
       "      <th>id_product</th>\n",
       "      <th>is_pay</th>\n",
       "      <th>date</th>\n",
       "      <th>first_payment</th>\n",
       "      <th>last_date</th>\n",
       "    </tr>\n",
       "  </thead>\n",
       "  <tbody>\n",
       "    <tr>\n",
       "      <th>0</th>\n",
       "      <td>0</td>\n",
       "      <td>1680330573</td>\n",
       "      <td>user_9903</td>\n",
       "      <td>27</td>\n",
       "      <td>NaN</td>\n",
       "      <td>Санкт-Петербург</td>\n",
       "      <td>4.0</td>\n",
       "      <td>1</td>\n",
       "      <td>2023-04-01</td>\n",
       "      <td>2023-04-01</td>\n",
       "      <td>2023-04-08</td>\n",
       "    </tr>\n",
       "    <tr>\n",
       "      <th>1</th>\n",
       "      <td>1</td>\n",
       "      <td>1680332652</td>\n",
       "      <td>user_6732</td>\n",
       "      <td>0</td>\n",
       "      <td>NaN</td>\n",
       "      <td>Рязань</td>\n",
       "      <td>1.0</td>\n",
       "      <td>0</td>\n",
       "      <td>2023-04-01</td>\n",
       "      <td>2023-04-04</td>\n",
       "      <td>2023-04-11</td>\n",
       "    </tr>\n",
       "    <tr>\n",
       "      <th>2</th>\n",
       "      <td>2</td>\n",
       "      <td>1680378039</td>\n",
       "      <td>user_4199</td>\n",
       "      <td>0</td>\n",
       "      <td>NaN</td>\n",
       "      <td>Москва</td>\n",
       "      <td>3.0</td>\n",
       "      <td>0</td>\n",
       "      <td>2023-04-01</td>\n",
       "      <td>2023-04-15</td>\n",
       "      <td>2023-04-22</td>\n",
       "    </tr>\n",
       "  </tbody>\n",
       "</table>\n",
       "</div>"
      ],
      "text/plain": [
       "   index   timestamp    id_user  sum_payment group             city  \\\n",
       "0      0  1680330573  user_9903           27   NaN  Санкт-Петербург   \n",
       "1      1  1680332652  user_6732            0   NaN           Рязань   \n",
       "2      2  1680378039  user_4199            0   NaN           Москва   \n",
       "\n",
       "   id_product  is_pay        date first_payment  last_date  \n",
       "0         4.0       1  2023-04-01    2023-04-01 2023-04-08  \n",
       "1         1.0       0  2023-04-01    2023-04-04 2023-04-11  \n",
       "2         3.0       0  2023-04-01    2023-04-15 2023-04-22  "
      ]
     },
     "execution_count": 554,
     "metadata": {},
     "output_type": "execute_result"
    }
   ],
   "source": [
    "def get_dates(df):\n",
    "    first_payment = df[(df['is_pay']==1)].groupby('id_user')['date'].min()\n",
    "    last_date = pd.to_datetime(first_payment) + pd.to_timedelta(7, unit='d')\n",
    "    result = pd.DataFrame(data=zip(list(first_payment.index), first_payment, last_date), columns=['id_user', 'first_payment', 'last_date'])\n",
    "    return result\n",
    "\n",
    "result = get_dates(df[(df['date']<='2023-04-31')])\n",
    "result['id_user'] = result['id_user'].astype(object)\n",
    "df['id_user'] = df['id_user'].astype(object)\n",
    "df_before = df.merge(result, on='id_user', how='left')[(df['date']<='2023-04-31')]\n",
    "df_before.head(3)"
   ]
  },
  {
   "cell_type": "code",
   "execution_count": 564,
   "id": "3e4a512c",
   "metadata": {},
   "outputs": [
    {
     "name": "stdout",
     "output_type": "stream",
     "text": [
      "Среднее значение метрики до АБ эксперимента: 15.201310749186485\n"
     ]
    }
   ],
   "source": [
    "payments_before = df_before[(df_before['date']>=df_before['first_payment'])&(df_before['date']<=df_before['last_date'])]\n",
    "mean_payments_before = payments_before.groupby('id_user')['sum_payment'].mean()\n",
    "\n",
    "m1 = mean_payments_before.mean()\n",
    "sigma_1 = mean_payments_before.std()\n",
    "delta_effect = m1 * 0.1\n",
    "print('Среднее значение метрики до АБ эксперимента:', m1)"
   ]
  },
  {
   "cell_type": "markdown",
   "id": "40872316",
   "metadata": {},
   "source": [
    "Оценим длительность эксперимента "
   ]
  },
  {
   "cell_type": "code",
   "execution_count": 565,
   "id": "8b2899f7",
   "metadata": {},
   "outputs": [
    {
     "data": {
      "text/plain": [
       "(1.5201310749186485, 9.365654969171416)"
      ]
     },
     "execution_count": 565,
     "metadata": {},
     "output_type": "execute_result"
    }
   ],
   "source": [
    "delta_effect, sigma_1"
   ]
  },
  {
   "cell_type": "code",
   "execution_count": 566,
   "id": "b3687665",
   "metadata": {},
   "outputs": [],
   "source": [
    "def duration(k, delta_effect, sigma_1, sigma_2, alpha=0.05, beta=0.2):\n",
    "    z = sps.norm.ppf(1 - alpha/2) + sps.norm.ppf(1-beta)\n",
    "    n = (k+1) * z ** 2 * (sigma_1 ** 2 + sigma_2 **2 / k) / (delta_effect ** 2)\n",
    "    return n"
   ]
  },
  {
   "cell_type": "code",
   "execution_count": 567,
   "id": "e9449e3b",
   "metadata": {
    "scrolled": false
   },
   "outputs": [
    {
     "name": "stdout",
     "output_type": "stream",
     "text": [
      "Для наблюдения эффекта в 10% с вероятность 95% необходима выборка из 1192 человек, которые бы совершали покупки, по  596 человек в каждой группе\n"
     ]
    }
   ],
   "source": [
    "k = 1\n",
    "alpha = 0.05\n",
    "beta = 0.2\n",
    "d = int(duration(k, delta_effect, sigma_1, sigma_1, alpha, beta)) + 1\n",
    "print('Для наблюдения эффекта в 10% с вероятность 95% необходима выборка из', d, 'человек, которые бы совершали покупки, по ', d//2, 'человек в каждой группе')"
   ]
  },
  {
   "cell_type": "code",
   "execution_count": 568,
   "id": "424866cf",
   "metadata": {},
   "outputs": [
    {
     "data": {
      "text/plain": [
       "4731"
      ]
     },
     "execution_count": 568,
     "metadata": {},
     "output_type": "execute_result"
    }
   ],
   "source": [
    "users_before = payments_before.id_user.nunique()\n",
    "users_before"
   ]
  },
  {
   "cell_type": "markdown",
   "id": "352090ad",
   "metadata": {},
   "source": [
    "Для эксперимента нам нужно 1192 пользователя, при том, что всего уникальных юзеров за месяц 4731. Кажется, что длительность эксперимента в месяц полностью покрывает наши потребности, можем оставить длительность такой, какую наметили изначально. Приступаем к оценке эксперимента"
   ]
  },
  {
   "cell_type": "markdown",
   "id": "48270b87",
   "metadata": {},
   "source": [
    "### Рассчитать целевую метрику на день окончания теста (рассчитанной в п1) для группы A и B, рассчитать эффект, p_value. Посмотреть, есть ли выбросы в данных."
   ]
  },
  {
   "cell_type": "markdown",
   "id": "f388dfcb",
   "metadata": {},
   "source": [
    "Посмотрим на данные после начала эксперимента"
   ]
  },
  {
   "cell_type": "code",
   "execution_count": 569,
   "id": "9f930191",
   "metadata": {
    "scrolled": true
   },
   "outputs": [
    {
     "data": {
      "text/html": [
       "<div>\n",
       "<style scoped>\n",
       "    .dataframe tbody tr th:only-of-type {\n",
       "        vertical-align: middle;\n",
       "    }\n",
       "\n",
       "    .dataframe tbody tr th {\n",
       "        vertical-align: top;\n",
       "    }\n",
       "\n",
       "    .dataframe thead th {\n",
       "        text-align: right;\n",
       "    }\n",
       "</style>\n",
       "<table border=\"1\" class=\"dataframe\">\n",
       "  <thead>\n",
       "    <tr style=\"text-align: right;\">\n",
       "      <th></th>\n",
       "      <th>index</th>\n",
       "      <th>timestamp</th>\n",
       "      <th>sum_payment</th>\n",
       "      <th>id_product</th>\n",
       "      <th>is_pay</th>\n",
       "    </tr>\n",
       "  </thead>\n",
       "  <tbody>\n",
       "    <tr>\n",
       "      <th>count</th>\n",
       "      <td>9142.000000</td>\n",
       "      <td>9.142000e+03</td>\n",
       "      <td>9142.000000</td>\n",
       "      <td>9140.000000</td>\n",
       "      <td>9142.0</td>\n",
       "    </tr>\n",
       "    <tr>\n",
       "      <th>mean</th>\n",
       "      <td>41087.971013</td>\n",
       "      <td>1.684902e+09</td>\n",
       "      <td>21.302013</td>\n",
       "      <td>11.453939</td>\n",
       "      <td>1.0</td>\n",
       "    </tr>\n",
       "    <tr>\n",
       "      <th>std</th>\n",
       "      <td>8834.267316</td>\n",
       "      <td>5.914897e+05</td>\n",
       "      <td>17.480641</td>\n",
       "      <td>5.647674</td>\n",
       "      <td>0.0</td>\n",
       "    </tr>\n",
       "    <tr>\n",
       "      <th>min</th>\n",
       "      <td>25764.000000</td>\n",
       "      <td>1.682921e+09</td>\n",
       "      <td>10.000000</td>\n",
       "      <td>0.000000</td>\n",
       "      <td>1.0</td>\n",
       "    </tr>\n",
       "    <tr>\n",
       "      <th>25%</th>\n",
       "      <td>33442.000000</td>\n",
       "      <td>1.684554e+09</td>\n",
       "      <td>13.000000</td>\n",
       "      <td>7.000000</td>\n",
       "      <td>1.0</td>\n",
       "    </tr>\n",
       "    <tr>\n",
       "      <th>50%</th>\n",
       "      <td>41057.000000</td>\n",
       "      <td>1.685069e+09</td>\n",
       "      <td>19.000000</td>\n",
       "      <td>11.000000</td>\n",
       "      <td>1.0</td>\n",
       "    </tr>\n",
       "    <tr>\n",
       "      <th>75%</th>\n",
       "      <td>48784.000000</td>\n",
       "      <td>1.685395e+09</td>\n",
       "      <td>28.000000</td>\n",
       "      <td>16.000000</td>\n",
       "      <td>1.0</td>\n",
       "    </tr>\n",
       "    <tr>\n",
       "      <th>max</th>\n",
       "      <td>56402.000000</td>\n",
       "      <td>1.685567e+09</td>\n",
       "      <td>1000.000000</td>\n",
       "      <td>21.000000</td>\n",
       "      <td>1.0</td>\n",
       "    </tr>\n",
       "  </tbody>\n",
       "</table>\n",
       "</div>"
      ],
      "text/plain": [
       "              index     timestamp  sum_payment   id_product  is_pay\n",
       "count   9142.000000  9.142000e+03  9142.000000  9140.000000  9142.0\n",
       "mean   41087.971013  1.684902e+09    21.302013    11.453939     1.0\n",
       "std     8834.267316  5.914897e+05    17.480641     5.647674     0.0\n",
       "min    25764.000000  1.682921e+09    10.000000     0.000000     1.0\n",
       "25%    33442.000000  1.684554e+09    13.000000     7.000000     1.0\n",
       "50%    41057.000000  1.685069e+09    19.000000    11.000000     1.0\n",
       "75%    48784.000000  1.685395e+09    28.000000    16.000000     1.0\n",
       "max    56402.000000  1.685567e+09  1000.000000    21.000000     1.0"
      ]
     },
     "execution_count": 569,
     "metadata": {},
     "output_type": "execute_result"
    }
   ],
   "source": [
    "df[(df['is_pay']==1)&(df['date']>'2023-04-31')].describe()"
   ]
  },
  {
   "cell_type": "markdown",
   "id": "24065e2d",
   "metadata": {},
   "source": [
    "Ситуация с выбросами точно такая же - присутствуют большие значения платежей, которые влияют на метрику среднего. Скорректируем эти точечные выбросы значением среднего"
   ]
  },
  {
   "cell_type": "code",
   "execution_count": 482,
   "id": "324bbc84",
   "metadata": {},
   "outputs": [
    {
     "data": {
      "text/html": [
       "<div>\n",
       "<style scoped>\n",
       "    .dataframe tbody tr th:only-of-type {\n",
       "        vertical-align: middle;\n",
       "    }\n",
       "\n",
       "    .dataframe tbody tr th {\n",
       "        vertical-align: top;\n",
       "    }\n",
       "\n",
       "    .dataframe thead th {\n",
       "        text-align: right;\n",
       "    }\n",
       "</style>\n",
       "<table border=\"1\" class=\"dataframe\">\n",
       "  <thead>\n",
       "    <tr style=\"text-align: right;\">\n",
       "      <th></th>\n",
       "      <th>timestamp</th>\n",
       "      <th>id_user</th>\n",
       "      <th>sum_payment</th>\n",
       "      <th>group</th>\n",
       "      <th>city</th>\n",
       "      <th>id_product</th>\n",
       "      <th>is_pay</th>\n",
       "      <th>date</th>\n",
       "    </tr>\n",
       "  </thead>\n",
       "  <tbody>\n",
       "    <tr>\n",
       "      <th>26242</th>\n",
       "      <td>1683320400</td>\n",
       "      <td>user_11998</td>\n",
       "      <td>1000.0</td>\n",
       "      <td>A</td>\n",
       "      <td>Москва</td>\n",
       "      <td>NaN</td>\n",
       "      <td>1</td>\n",
       "      <td>2023-05-06</td>\n",
       "    </tr>\n",
       "    <tr>\n",
       "      <th>26272</th>\n",
       "      <td>1683320400</td>\n",
       "      <td>user_11996</td>\n",
       "      <td>1000.0</td>\n",
       "      <td>A</td>\n",
       "      <td>Москва</td>\n",
       "      <td>NaN</td>\n",
       "      <td>1</td>\n",
       "      <td>2023-05-06</td>\n",
       "    </tr>\n",
       "  </tbody>\n",
       "</table>\n",
       "</div>"
      ],
      "text/plain": [
       "        timestamp     id_user  sum_payment group    city  id_product  is_pay  \\\n",
       "26242  1683320400  user_11998       1000.0     A  Москва         NaN       1   \n",
       "26272  1683320400  user_11996       1000.0     A  Москва         NaN       1   \n",
       "\n",
       "             date  \n",
       "26242  2023-05-06  \n",
       "26272  2023-05-06  "
      ]
     },
     "execution_count": 482,
     "metadata": {},
     "output_type": "execute_result"
    }
   ],
   "source": [
    "df[(df['is_pay']==1)&(df['sum_payment']==1000)&(df['date']>'2023-04-31')]"
   ]
  },
  {
   "cell_type": "code",
   "execution_count": 571,
   "id": "211a2a87",
   "metadata": {},
   "outputs": [],
   "source": [
    "df = df.drop(labels=26272)\n",
    "df = df.drop(labels=26242)\n",
    "\n",
    "df = df.reset_index()"
   ]
  },
  {
   "cell_type": "code",
   "execution_count": 572,
   "id": "2a3c74b6",
   "metadata": {
    "scrolled": false
   },
   "outputs": [
    {
     "data": {
      "text/html": [
       "<div>\n",
       "<style scoped>\n",
       "    .dataframe tbody tr th:only-of-type {\n",
       "        vertical-align: middle;\n",
       "    }\n",
       "\n",
       "    .dataframe tbody tr th {\n",
       "        vertical-align: top;\n",
       "    }\n",
       "\n",
       "    .dataframe thead th {\n",
       "        text-align: right;\n",
       "    }\n",
       "</style>\n",
       "<table border=\"1\" class=\"dataframe\">\n",
       "  <thead>\n",
       "    <tr style=\"text-align: right;\">\n",
       "      <th></th>\n",
       "      <th>level_0</th>\n",
       "      <th>index</th>\n",
       "      <th>timestamp</th>\n",
       "      <th>id_user</th>\n",
       "      <th>sum_payment</th>\n",
       "      <th>group</th>\n",
       "      <th>city</th>\n",
       "      <th>id_product</th>\n",
       "      <th>is_pay</th>\n",
       "      <th>date</th>\n",
       "      <th>first_payment</th>\n",
       "      <th>last_date</th>\n",
       "    </tr>\n",
       "  </thead>\n",
       "  <tbody>\n",
       "    <tr>\n",
       "      <th>25758</th>\n",
       "      <td>25758</td>\n",
       "      <td>25759</td>\n",
       "      <td>1682972952</td>\n",
       "      <td>user_8276</td>\n",
       "      <td>0</td>\n",
       "      <td>A</td>\n",
       "      <td>Москва</td>\n",
       "      <td>10.0</td>\n",
       "      <td>0</td>\n",
       "      <td>2023-05-01</td>\n",
       "      <td>2023-05-18</td>\n",
       "      <td>2023-05-25</td>\n",
       "    </tr>\n",
       "    <tr>\n",
       "      <th>25759</th>\n",
       "      <td>25759</td>\n",
       "      <td>25760</td>\n",
       "      <td>1682964072</td>\n",
       "      <td>user_4627</td>\n",
       "      <td>0</td>\n",
       "      <td>B</td>\n",
       "      <td>Рязань</td>\n",
       "      <td>18.0</td>\n",
       "      <td>0</td>\n",
       "      <td>2023-05-01</td>\n",
       "      <td>2023-05-26</td>\n",
       "      <td>2023-06-02</td>\n",
       "    </tr>\n",
       "    <tr>\n",
       "      <th>25760</th>\n",
       "      <td>25760</td>\n",
       "      <td>25761</td>\n",
       "      <td>1682894626</td>\n",
       "      <td>user_7623</td>\n",
       "      <td>0</td>\n",
       "      <td>B</td>\n",
       "      <td>Санкт-Петербург</td>\n",
       "      <td>21.0</td>\n",
       "      <td>0</td>\n",
       "      <td>2023-05-01</td>\n",
       "      <td>2023-05-13</td>\n",
       "      <td>2023-05-20</td>\n",
       "    </tr>\n",
       "  </tbody>\n",
       "</table>\n",
       "</div>"
      ],
      "text/plain": [
       "       level_0  index   timestamp    id_user  sum_payment group  \\\n",
       "25758    25758  25759  1682972952  user_8276            0     A   \n",
       "25759    25759  25760  1682964072  user_4627            0     B   \n",
       "25760    25760  25761  1682894626  user_7623            0     B   \n",
       "\n",
       "                  city  id_product  is_pay        date first_payment  \\\n",
       "25758           Москва        10.0       0  2023-05-01    2023-05-18   \n",
       "25759           Рязань        18.0       0  2023-05-01    2023-05-26   \n",
       "25760  Санкт-Петербург        21.0       0  2023-05-01    2023-05-13   \n",
       "\n",
       "       last_date  \n",
       "25758 2023-05-25  \n",
       "25759 2023-06-02  \n",
       "25760 2023-05-20  "
      ]
     },
     "execution_count": 572,
     "metadata": {},
     "output_type": "execute_result"
    }
   ],
   "source": [
    "result_AB = get_dates(df[(df['date']>'2023-04-31')])\n",
    "result_AB['id_user'] = result_AB['id_user'].astype(object)\n",
    "df['id_user'] = df['id_user'].astype(object)\n",
    "df_AB = df.merge(result_AB, on='id_user', how='left')[(df['date']>'2023-04-31')]\n",
    "df_AB.head(3)"
   ]
  },
  {
   "cell_type": "markdown",
   "id": "7680f4aa",
   "metadata": {},
   "source": [
    "Посчитаем метрики эксперимента по обеим группам. Сформируем группы, посчитаем средний доход от одного пользователя по А и Б"
   ]
  },
  {
   "cell_type": "code",
   "execution_count": 573,
   "id": "940e2db4",
   "metadata": {},
   "outputs": [],
   "source": [
    "group_a = df_AB[df_AB['group'] == 'A']\n",
    "group_b = df_AB[df_AB['group'] == 'B']"
   ]
  },
  {
   "cell_type": "code",
   "execution_count": 574,
   "id": "7f313f5e",
   "metadata": {
    "scrolled": true
   },
   "outputs": [
    {
     "name": "stdout",
     "output_type": "stream",
     "text": [
      "Cредний доход от пользователя в группе А: 15.954459013689753\n",
      "Cредний доход от пользователя в группе B: 15.671286688334279\n"
     ]
    }
   ],
   "source": [
    "payments_A = group_a[(group_a['date']>=group_a['first_payment'])&(group_a['date']<=group_a['last_date'])]\n",
    "mean_payments_A = payments_A.groupby('id_user')['sum_payment'].mean()\n",
    "std_payment_A = payments_A.groupby('id_user')['sum_payment'].std()\n",
    "\n",
    "payments_B = group_b[(group_b['date']>=group_b['first_payment'])&(group_b['date']<=group_b['last_date'])]\n",
    "mean_payments_B = payments_B.groupby('id_user')['sum_payment'].mean()\n",
    "std_payment_B = payments_B.groupby('id_user')['sum_payment'].std()\n",
    "\n",
    "print('Cредний доход от пользователя в группе А:', mean_payments_A.mean())\n",
    "print('Cредний доход от пользователя в группе B:', mean_payments_B.mean())"
   ]
  },
  {
   "cell_type": "markdown",
   "id": "7598caf8",
   "metadata": {},
   "source": [
    "Посмотрим, набрали ли мы нужное количество измерений (платежей), чтобы их сравнивать "
   ]
  },
  {
   "cell_type": "code",
   "execution_count": 575,
   "id": "fb5750c8",
   "metadata": {},
   "outputs": [
    {
     "name": "stdout",
     "output_type": "stream",
     "text": [
      "Нет оснований отвергнуть нулевую гипотезу\n"
     ]
    }
   ],
   "source": [
    "alpha = 0.05\n",
    "p = sps.ttest_ind(mean_payments_A, mean_payments_B).pvalue\n",
    "if p < alpha: \n",
    "    print('Отвергаем нулевую гипотезу')\n",
    "else:\n",
    "    print('Нет оснований отвергнуть нулевую гипотезу')"
   ]
  },
  {
   "cell_type": "markdown",
   "id": "599c027b",
   "metadata": {},
   "source": [
    "У нас получилось, что средние значения платежа по группам А, B очень похожи. Нельзя отвергнуть нулевую гипотезу о равенстве средних."
   ]
  }
 ],
 "metadata": {
  "kernelspec": {
   "display_name": "Python 3 (ipykernel)",
   "language": "python",
   "name": "python3"
  },
  "language_info": {
   "codemirror_mode": {
    "name": "ipython",
    "version": 3
   },
   "file_extension": ".py",
   "mimetype": "text/x-python",
   "name": "python",
   "nbconvert_exporter": "python",
   "pygments_lexer": "ipython3",
   "version": "3.9.13"
  }
 },
 "nbformat": 4,
 "nbformat_minor": 5
}
